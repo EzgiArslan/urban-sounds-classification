{
  "nbformat": 4,
  "nbformat_minor": 0,
  "metadata": {
    "colab": {
      "provenance": [],
      "collapsed_sections": []
    },
    "kernelspec": {
      "name": "python3",
      "display_name": "Python 3"
    },
    "language_info": {
      "name": "python"
    },
    "accelerator": "GPU"
  },
  "cells": [
    {
      "cell_type": "markdown",
      "source": [
        "# **Urban Sound Classification**\n",
        "\n",
        "This notebook includes the modelling steps for Urban Sound Dataset as a part of Koç Holding Deep Learning Bootcamp."
      ],
      "metadata": {
        "id": "4uX0HB1lAqzW"
      }
    },
    {
      "cell_type": "markdown",
      "source": [
        "**Importing Libraries**"
      ],
      "metadata": {
        "id": "KaZv1R-CC8Hc"
      }
    },
    {
      "cell_type": "code",
      "execution_count": 1,
      "metadata": {
        "id": "NRN6VLGD1mgc"
      },
      "outputs": [],
      "source": [
        "import tensorflow as tf\n",
        "import numpy as np\n",
        "import pandas as pd\n",
        "import matplotlib.pyplot as plt"
      ]
    },
    {
      "cell_type": "markdown",
      "source": [
        "**Accessing the drive and loading the preprocessed data.**"
      ],
      "metadata": {
        "id": "_NjT7XGRDCA2"
      }
    },
    {
      "cell_type": "code",
      "source": [
        "from google.colab import drive\n",
        "drive.mount('/content/drive/')"
      ],
      "metadata": {
        "colab": {
          "base_uri": "https://localhost:8080/"
        },
        "id": "SS6AUGCi2HjP",
        "outputId": "a6c4de90-70a8-4849-d09b-caf2691d18cd"
      },
      "execution_count": 2,
      "outputs": [
        {
          "output_type": "stream",
          "name": "stdout",
          "text": [
            "Mounted at /content/drive/\n"
          ]
        }
      ]
    },
    {
      "cell_type": "code",
      "source": [
        "X_train = np.load(\"/content/drive/MyDrive/metadata/X_train_dataframe.npy\")\n",
        "y_train = np.load(\"/content/drive/MyDrive/metadata/y_train_dataframe.npy\")\n",
        "\n",
        "X_val = np.load(\"/content/drive/MyDrive/metadata/X_val_dataframe.npy\")\n",
        "y_val = np.load(\"/content/drive/MyDrive/metadata/y_val_dataframe.npy\")\n",
        "\n",
        "X_test = np.load(\"/content/drive/MyDrive/metadata/X_test_dataframe.npy\")\n",
        "y_test = np.load(\"/content/drive/MyDrive/metadata/y_test_dataframe.npy\")\n"
      ],
      "metadata": {
        "id": "ATrG6EEV2DCa"
      },
      "execution_count": 3,
      "outputs": []
    },
    {
      "cell_type": "code",
      "source": [
        "X_train.shape, y_train.shape, X_val.shape, y_val.shape, X_test.shape, y_test.shape"
      ],
      "metadata": {
        "colab": {
          "base_uri": "https://localhost:8080/"
        },
        "id": "ZdnelUkg2ip8",
        "outputId": "94a20397-ecf8-4335-c7f2-f9c0c7adf3ad"
      },
      "execution_count": 4,
      "outputs": [
        {
          "output_type": "execute_result",
          "data": {
            "text/plain": [
              "((5238, 128, 128),\n",
              " (5238,),\n",
              " (1747, 128, 128),\n",
              " (1747,),\n",
              " (1747, 128, 128),\n",
              " (1747,))"
            ]
          },
          "metadata": {},
          "execution_count": 4
        }
      ]
    },
    {
      "cell_type": "markdown",
      "source": [
        "Visualize function"
      ],
      "metadata": {
        "id": "Y7uQXJ97MeJK"
      }
    },
    {
      "cell_type": "code",
      "source": [
        "def plot_fig(results):\n",
        "  fig = plt.figure(figsize =(18,5))\n",
        "  \n",
        "  first_plot = fig.add_subplot(1,2,1)\n",
        "  first_plot.plot(results.history[\"accuracy\"], label=\"Train\")\n",
        "  first_plot.plot(results.history[\"val_accuracy\"], label=\"Test\")\n",
        "\n",
        "\n",
        "  # Name the x and y axises\n",
        "  first_plot.set_title(\"Accuracy\")\n",
        "\n",
        "\n",
        "  second_plot = fig.add_subplot(1,2,2)\n",
        "  second_plot.plot(results.history[\"loss\"], label=\"Train\")\n",
        "  second_plot.plot(results.history[\"val_loss\"], label=\"Test\")\n",
        "\n",
        "  second_plot.set_title(\"loss\")\n",
        "\n",
        "  # Put legend table\n",
        "  plt.legend()\n",
        "\n",
        "  # Show the plot\n",
        "  plt.show()\n"
      ],
      "metadata": {
        "id": "kFDvVGFmMctw"
      },
      "execution_count": 5,
      "outputs": []
    },
    {
      "cell_type": "markdown",
      "source": [
        "## **Model Trials**"
      ],
      "metadata": {
        "id": "KX1cACZHDJpa"
      }
    },
    {
      "cell_type": "markdown",
      "source": [
        "##### 1"
      ],
      "metadata": {
        "id": "CSoCzU3-DQfI"
      }
    },
    {
      "cell_type": "code",
      "source": [
        "# Create a model object\n",
        "model = tf.keras.Sequential()"
      ],
      "metadata": {
        "id": "jyab05RO22Gi"
      },
      "execution_count": 7,
      "outputs": []
    },
    {
      "cell_type": "code",
      "source": [
        "model.add(tf.keras.layers.Conv2D(256,\n",
        "                                 kernel_size = (3,3), \n",
        "                                 strides=(1,1), \n",
        "                                 padding=\"same\", \n",
        "                                 activation =\"relu\",\n",
        "                                 input_shape = (128,128,1)))\n",
        "model.add(tf.keras.layers.MaxPooling2D((2,2)))\n",
        "model.add(tf.keras.layers.Conv2D(128,\n",
        "                                 kernel_size = (3,3), \n",
        "                                 strides=(1,1), \n",
        "                                 padding=\"same\", \n",
        "                                 activation =\"relu\"))\n",
        "model.add(tf.keras.layers.MaxPooling2D((2,2)))\n",
        "\n",
        "model.add(tf.keras.layers.Conv2D(128,\n",
        "                                 kernel_size = (3,3), \n",
        "                                 strides=(1,1), \n",
        "                                 padding=\"same\", \n",
        "                                 activation =\"relu\"))\n",
        "model.add(tf.keras.layers.Flatten())\n",
        "model.add(tf.keras.layers.Dense(64, activation=\"relu\"))\n",
        "model.add(tf.keras.layers.Dropout(0.5))\n",
        "model.add(tf.keras.layers.Dense(64, activation=\"relu\"))\n",
        "model.add(tf.keras.layers.Dropout(0.5))\n",
        "model.add(tf.keras.layers.Dense(10, activation=\"softmax\"))"
      ],
      "metadata": {
        "id": "wiDM8o1-264l"
      },
      "execution_count": 8,
      "outputs": []
    },
    {
      "cell_type": "code",
      "source": [
        "model.compile(optimizer=\"adam\",\n",
        "              loss=\"sparse_categorical_crossentropy\",\n",
        "              metrics=[\"accuracy\"])"
      ],
      "metadata": {
        "id": "dYjGjNYB-9D2"
      },
      "execution_count": 9,
      "outputs": []
    },
    {
      "cell_type": "code",
      "source": [
        "results = model.fit(X_train, y_train,\n",
        "                    batch_size=128,\n",
        "                    epochs=10,\n",
        "                    validation_data=(X_val, y_val))"
      ],
      "metadata": {
        "colab": {
          "base_uri": "https://localhost:8080/"
        },
        "id": "KD2msMV6Ai9b",
        "outputId": "e80a914b-47bf-4bb3-9100-87e3ceb75721"
      },
      "execution_count": 10,
      "outputs": [
        {
          "output_type": "stream",
          "name": "stdout",
          "text": [
            "Epoch 1/10\n",
            "41/41 [==============================] - 29s 408ms/step - loss: 2.1312 - accuracy: 0.2150 - val_loss: 1.7918 - val_accuracy: 0.3921\n",
            "Epoch 2/10\n",
            "41/41 [==============================] - 13s 318ms/step - loss: 1.8841 - accuracy: 0.3108 - val_loss: 1.6528 - val_accuracy: 0.4665\n",
            "Epoch 3/10\n",
            "41/41 [==============================] - 13s 320ms/step - loss: 1.6818 - accuracy: 0.3982 - val_loss: 1.4077 - val_accuracy: 0.5518\n",
            "Epoch 4/10\n",
            "41/41 [==============================] - 13s 322ms/step - loss: 1.5379 - accuracy: 0.4565 - val_loss: 1.2730 - val_accuracy: 0.5856\n",
            "Epoch 5/10\n",
            "41/41 [==============================] - 13s 323ms/step - loss: 1.3973 - accuracy: 0.5063 - val_loss: 1.2273 - val_accuracy: 0.6113\n",
            "Epoch 6/10\n",
            "41/41 [==============================] - 13s 324ms/step - loss: 1.2513 - accuracy: 0.5626 - val_loss: 1.1694 - val_accuracy: 0.6302\n",
            "Epoch 7/10\n",
            "41/41 [==============================] - 13s 322ms/step - loss: 1.1267 - accuracy: 0.6094 - val_loss: 1.1228 - val_accuracy: 0.6337\n",
            "Epoch 8/10\n",
            "41/41 [==============================] - 13s 321ms/step - loss: 1.0322 - accuracy: 0.6363 - val_loss: 1.1065 - val_accuracy: 0.6537\n",
            "Epoch 9/10\n",
            "41/41 [==============================] - 13s 321ms/step - loss: 0.9601 - accuracy: 0.6722 - val_loss: 1.1145 - val_accuracy: 0.6451\n",
            "Epoch 10/10\n",
            "41/41 [==============================] - 13s 320ms/step - loss: 0.8708 - accuracy: 0.6894 - val_loss: 1.0942 - val_accuracy: 0.6554\n"
          ]
        }
      ]
    },
    {
      "cell_type": "code",
      "source": [
        "plot_fig(results)"
      ],
      "metadata": {
        "colab": {
          "base_uri": "https://localhost:8080/",
          "height": 336
        },
        "id": "vgVm3-l0GE27",
        "outputId": "cdf1e730-b6d1-42d3-83e4-ecf4dea0aeda"
      },
      "execution_count": 11,
      "outputs": [
        {
          "output_type": "display_data",
          "data": {
            "text/plain": [
              "<Figure size 1296x360 with 2 Axes>"
            ],
            "image/png": "[encoded data removed]"
          },
          "metadata": {
            "needs_background": "light"
          }
        }
      ]
    },
    {
      "cell_type": "code",
      "source": [
        "# Evaluate the performance\n",
        "model.evaluate(X_test, y_test)"
      ],
      "metadata": {
        "colab": {
          "base_uri": "https://localhost:8080/"
        },
        "id": "2HtfPILIDnPY",
        "outputId": "2169d990-4475-4fa7-ea1d-8422b7e4909e"
      },
      "execution_count": 12,
      "outputs": [
        {
          "output_type": "stream",
          "name": "stdout",
          "text": [
            "55/55 [==============================] - 2s 36ms/step - loss: 1.1413 - accuracy: 0.6600\n"
          ]
        },
        {
          "output_type": "execute_result",
          "data": {
            "text/plain": [
              "[1.1412816047668457, 0.659988522529602]"
            ]
          },
          "metadata": {},
          "execution_count": 12
        }
      ]
    },
    {
      "cell_type": "markdown",
      "source": [
        "##### 2\n",
        "Model is start to overfit. Let's use early stopping with different architecture."
      ],
      "metadata": {
        "id": "CuEq1uAYDTzn"
      }
    },
    {
      "cell_type": "code",
      "source": [
        "# Create a model object\n",
        "model = tf.keras.Sequential()"
      ],
      "metadata": {
        "id": "CHIRfCv5R9NG"
      },
      "execution_count": 13,
      "outputs": []
    },
    {
      "cell_type": "code",
      "source": [
        "model.add(tf.keras.layers.Conv2D(256,\n",
        "                                 kernel_size = (3,3), \n",
        "                                 strides=(1,1), \n",
        "                                 padding=\"same\", \n",
        "                                 activation =\"relu\",\n",
        "                                 input_shape = (128,128,1)))\n",
        "model.add(tf.keras.layers.MaxPooling2D((2,2)))\n",
        "model.add(tf.keras.layers.Conv2D(256,\n",
        "                                 kernel_size = (3,3), \n",
        "                                 strides=(1,1), \n",
        "                                 padding=\"same\", \n",
        "                                 activation =\"relu\"))\n",
        "model.add(tf.keras.layers.MaxPooling2D((2,2)))\n",
        "model.add(tf.keras.layers.Conv2D(128,\n",
        "                                 kernel_size = (3,3), \n",
        "                                 strides=(1,1), \n",
        "                                 padding=\"same\", \n",
        "                                 activation =\"relu\"))\n",
        "model.add(tf.keras.layers.MaxPooling2D((2,2)))\n",
        "model.add(tf.keras.layers.Conv2D(128,\n",
        "                                 kernel_size = (3,3), \n",
        "                                 strides=(1,1), \n",
        "                                 padding=\"same\", \n",
        "                                 activation =\"relu\"))\n",
        "model.add(tf.keras.layers.Flatten())\n",
        "model.add(tf.keras.layers.Dense(128, activation=\"relu\"))\n",
        "model.add(tf.keras.layers.Dropout(0.5))\n",
        "model.add(tf.keras.layers.Dense(64, activation=\"relu\"))\n",
        "model.add(tf.keras.layers.Dropout(0.5))\n",
        "model.add(tf.keras.layers.Dense(32, activation=\"relu\"))\n",
        "model.add(tf.keras.layers.Dense(10, activation=\"softmax\"))"
      ],
      "metadata": {
        "id": "H4lSxurOE01Q"
      },
      "execution_count": 14,
      "outputs": []
    },
    {
      "cell_type": "code",
      "source": [
        "model.compile(optimizer=\"adam\",\n",
        "              loss=\"sparse_categorical_crossentropy\",\n",
        "              metrics=[\"accuracy\"])\n",
        "\n",
        "callback = tf.keras.callbacks.EarlyStopping(monitor='val_loss', patience=5)\n",
        "checkpoint = tf.keras.callbacks.ModelCheckpoint('/content/drive/MyDrive/metadata/model.hdf5', monitor='val_loss', verbose=2, save_best_only=True, mode='min')\n"
      ],
      "metadata": {
        "id": "PewhY12SE-dh"
      },
      "execution_count": 15,
      "outputs": []
    },
    {
      "cell_type": "code",
      "source": [
        "results = model.fit(X_train, y_train,\n",
        "                    batch_size=128,\n",
        "                    epochs=50,\n",
        "                    validation_data=(X_val, y_val),\n",
        "                    callbacks=[callback, checkpoint])"
      ],
      "metadata": {
        "colab": {
          "base_uri": "https://localhost:8080/"
        },
        "id": "64dGz_LyFBeg",
        "outputId": "b3a1804d-750b-46e7-a2a7-083d631ab76b"
      },
      "execution_count": 16,
      "outputs": [
        {
          "output_type": "stream",
          "name": "stdout",
          "text": [
            "Epoch 1/50\n",
            "41/41 [==============================] - ETA: 0s - loss: 2.0891 - accuracy: 0.2241\n",
            "Epoch 1: val_loss improved from inf to 1.84221, saving model to /content/drive/MyDrive/metadata/model.hdf5\n",
            "41/41 [==============================] - 30s 622ms/step - loss: 2.0891 - accuracy: 0.2241 - val_loss: 1.8422 - val_accuracy: 0.3818\n",
            "Epoch 2/50\n",
            "41/41 [==============================] - ETA: 0s - loss: 1.8447 - accuracy: 0.3385\n",
            "Epoch 2: val_loss improved from 1.84221 to 1.60139, saving model to /content/drive/MyDrive/metadata/model.hdf5\n",
            "41/41 [==============================] - 18s 444ms/step - loss: 1.8447 - accuracy: 0.3385 - val_loss: 1.6014 - val_accuracy: 0.4482\n",
            "Epoch 3/50\n",
            "41/41 [==============================] - ETA: 0s - loss: 1.6737 - accuracy: 0.3971\n",
            "Epoch 3: val_loss improved from 1.60139 to 1.48760, saving model to /content/drive/MyDrive/metadata/model.hdf5\n",
            "41/41 [==============================] - 18s 442ms/step - loss: 1.6737 - accuracy: 0.3971 - val_loss: 1.4876 - val_accuracy: 0.4848\n",
            "Epoch 4/50\n",
            "41/41 [==============================] - ETA: 0s - loss: 1.5373 - accuracy: 0.4507\n",
            "Epoch 4: val_loss improved from 1.48760 to 1.31210, saving model to /content/drive/MyDrive/metadata/model.hdf5\n",
            "41/41 [==============================] - 18s 439ms/step - loss: 1.5373 - accuracy: 0.4507 - val_loss: 1.3121 - val_accuracy: 0.5301\n",
            "Epoch 5/50\n",
            "41/41 [==============================] - ETA: 0s - loss: 1.4140 - accuracy: 0.5073\n",
            "Epoch 5: val_loss improved from 1.31210 to 1.25605, saving model to /content/drive/MyDrive/metadata/model.hdf5\n",
            "41/41 [==============================] - 18s 440ms/step - loss: 1.4140 - accuracy: 0.5073 - val_loss: 1.2560 - val_accuracy: 0.5902\n",
            "Epoch 6/50\n",
            "41/41 [==============================] - ETA: 0s - loss: 1.2851 - accuracy: 0.5540\n",
            "Epoch 6: val_loss improved from 1.25605 to 1.15670, saving model to /content/drive/MyDrive/metadata/model.hdf5\n",
            "41/41 [==============================] - 18s 440ms/step - loss: 1.2851 - accuracy: 0.5540 - val_loss: 1.1567 - val_accuracy: 0.6193\n",
            "Epoch 7/50\n",
            "41/41 [==============================] - ETA: 0s - loss: 1.1513 - accuracy: 0.6117\n",
            "Epoch 7: val_loss improved from 1.15670 to 1.08783, saving model to /content/drive/MyDrive/metadata/model.hdf5\n",
            "41/41 [==============================] - 18s 439ms/step - loss: 1.1513 - accuracy: 0.6117 - val_loss: 1.0878 - val_accuracy: 0.6520\n",
            "Epoch 8/50\n",
            "41/41 [==============================] - ETA: 0s - loss: 1.0423 - accuracy: 0.6533\n",
            "Epoch 8: val_loss improved from 1.08783 to 1.04857, saving model to /content/drive/MyDrive/metadata/model.hdf5\n",
            "41/41 [==============================] - 18s 452ms/step - loss: 1.0423 - accuracy: 0.6533 - val_loss: 1.0486 - val_accuracy: 0.6697\n",
            "Epoch 9/50\n",
            "41/41 [==============================] - ETA: 0s - loss: 0.9351 - accuracy: 0.6949\n",
            "Epoch 9: val_loss improved from 1.04857 to 0.99710, saving model to /content/drive/MyDrive/metadata/model.hdf5\n",
            "41/41 [==============================] - 18s 442ms/step - loss: 0.9351 - accuracy: 0.6949 - val_loss: 0.9971 - val_accuracy: 0.6886\n",
            "Epoch 10/50\n",
            "41/41 [==============================] - ETA: 0s - loss: 0.8666 - accuracy: 0.7125\n",
            "Epoch 10: val_loss did not improve from 0.99710\n",
            "41/41 [==============================] - 17s 424ms/step - loss: 0.8666 - accuracy: 0.7125 - val_loss: 1.0037 - val_accuracy: 0.6749\n",
            "Epoch 11/50\n",
            "41/41 [==============================] - ETA: 0s - loss: 0.7734 - accuracy: 0.7467\n",
            "Epoch 11: val_loss improved from 0.99710 to 0.97944, saving model to /content/drive/MyDrive/metadata/model.hdf5\n",
            "41/41 [==============================] - 18s 442ms/step - loss: 0.7734 - accuracy: 0.7467 - val_loss: 0.9794 - val_accuracy: 0.6943\n",
            "Epoch 12/50\n",
            "41/41 [==============================] - ETA: 0s - loss: 0.6675 - accuracy: 0.7822\n",
            "Epoch 12: val_loss did not improve from 0.97944\n",
            "41/41 [==============================] - 17s 424ms/step - loss: 0.6675 - accuracy: 0.7822 - val_loss: 1.0489 - val_accuracy: 0.6938\n",
            "Epoch 13/50\n",
            "41/41 [==============================] - ETA: 0s - loss: 0.6045 - accuracy: 0.8018\n",
            "Epoch 13: val_loss did not improve from 0.97944\n",
            "41/41 [==============================] - 17s 425ms/step - loss: 0.6045 - accuracy: 0.8018 - val_loss: 1.0411 - val_accuracy: 0.6943\n",
            "Epoch 14/50\n",
            "41/41 [==============================] - ETA: 0s - loss: 0.5846 - accuracy: 0.8131\n",
            "Epoch 14: val_loss did not improve from 0.97944\n",
            "41/41 [==============================] - 17s 423ms/step - loss: 0.5846 - accuracy: 0.8131 - val_loss: 1.0455 - val_accuracy: 0.6846\n",
            "Epoch 15/50\n",
            "41/41 [==============================] - ETA: 0s - loss: 0.5304 - accuracy: 0.8263\n",
            "Epoch 15: val_loss did not improve from 0.97944\n",
            "41/41 [==============================] - 17s 423ms/step - loss: 0.5304 - accuracy: 0.8263 - val_loss: 1.0614 - val_accuracy: 0.6983\n",
            "Epoch 16/50\n",
            "41/41 [==============================] - ETA: 0s - loss: 0.4867 - accuracy: 0.8425\n",
            "Epoch 16: val_loss did not improve from 0.97944\n",
            "41/41 [==============================] - 17s 422ms/step - loss: 0.4867 - accuracy: 0.8425 - val_loss: 1.0843 - val_accuracy: 0.6972\n"
          ]
        }
      ]
    },
    {
      "cell_type": "code",
      "source": [
        "plot_fig(results)"
      ],
      "metadata": {
        "colab": {
          "base_uri": "https://localhost:8080/",
          "height": 336
        },
        "id": "rrzX-Kx8FDms",
        "outputId": "1160a4b5-8ce7-4514-8db6-c7868f6c5cf2"
      },
      "execution_count": 17,
      "outputs": [
        {
          "output_type": "display_data",
          "data": {
            "text/plain": [
              "<Figure size 1296x360 with 2 Axes>"
            ],
            "image/png": "[encoded data removed]"
          },
          "metadata": {
            "needs_background": "light"
          }
        }
      ]
    },
    {
      "cell_type": "code",
      "source": [
        "# Evaluate the performance\n",
        "model.evaluate(X_test, y_test)"
      ],
      "metadata": {
        "colab": {
          "base_uri": "https://localhost:8080/"
        },
        "id": "O31rz-ozM0Ux",
        "outputId": "b25cb9c0-f347-47ad-f872-bc55b2d5ece6"
      },
      "execution_count": 18,
      "outputs": [
        {
          "output_type": "stream",
          "name": "stdout",
          "text": [
            "55/55 [==============================] - 3s 43ms/step - loss: 1.1138 - accuracy: 0.7069\n"
          ]
        },
        {
          "output_type": "execute_result",
          "data": {
            "text/plain": [
              "[1.1137539148330688, 0.706926167011261]"
            ]
          },
          "metadata": {},
          "execution_count": 18
        }
      ]
    },
    {
      "cell_type": "markdown",
      "source": [
        "##### 3\n",
        "Let's try simpler architecture."
      ],
      "metadata": {
        "id": "uMdvXyDRNRmW"
      }
    },
    {
      "cell_type": "code",
      "source": [
        "# Create a model object\n",
        "model = tf.keras.Sequential()"
      ],
      "metadata": {
        "id": "3W4v7VkAW38g"
      },
      "execution_count": 19,
      "outputs": []
    },
    {
      "cell_type": "code",
      "source": [
        "model.add(tf.keras.layers.Conv2D(128,\n",
        "                                 kernel_size = (3,3), \n",
        "                                 strides=(1,1), \n",
        "                                 padding=\"same\", \n",
        "                                 activation =\"relu\",\n",
        "                                 input_shape = (128,128,1)))\n",
        "model.add(tf.keras.layers.MaxPooling2D((2,2)))\n",
        "model.add(tf.keras.layers.Flatten())\n",
        "model.add(tf.keras.layers.Dense(64, activation=\"relu\"))\n",
        "model.add(tf.keras.layers.Dropout(0.5))\n",
        "model.add(tf.keras.layers.Dense(10, activation=\"softmax\"))"
      ],
      "metadata": {
        "id": "6NcPvKxQM178"
      },
      "execution_count": 20,
      "outputs": []
    },
    {
      "cell_type": "code",
      "source": [
        "model.compile(optimizer=tf.keras.optimizers.Adam(0.001),\n",
        "              loss=\"sparse_categorical_crossentropy\",\n",
        "              metrics=[\"accuracy\"])\n",
        "callback = tf.keras.callbacks.EarlyStopping(monitor='val_loss', patience=5)\n",
        "checkpoint = tf.keras.callbacks.ModelCheckpoint('/content/drive/MyDrive/metadata/model.hdf5', monitor='val_loss', verbose=2, save_best_only=True, mode='min')\n"
      ],
      "metadata": {
        "id": "HJt7rkK5ZF2S"
      },
      "execution_count": 21,
      "outputs": []
    },
    {
      "cell_type": "code",
      "source": [
        "results = model.fit(X_train, y_train,\n",
        "                    batch_size=32,\n",
        "                    epochs=50,\n",
        "                    validation_data=(X_val, y_val),\n",
        "                    callbacks=[callback, checkpoint])"
      ],
      "metadata": {
        "colab": {
          "base_uri": "https://localhost:8080/"
        },
        "id": "hGzfhqzsOQ2S",
        "outputId": "d781db8a-9b49-4c9f-be29-a3aaf352d123"
      },
      "execution_count": 23,
      "outputs": [
        {
          "output_type": "stream",
          "name": "stdout",
          "text": [
            "Epoch 1/50\n",
            "163/164 [============================>.] - ETA: 0s - loss: 1.1600 - accuracy: 0.5707\n",
            "Epoch 1: val_loss improved from inf to 1.24021, saving model to /content/drive/MyDrive/metadata/model.hdf5\n",
            "164/164 [==============================] - 8s 47ms/step - loss: 1.1611 - accuracy: 0.5704 - val_loss: 1.2402 - val_accuracy: 0.5987\n",
            "Epoch 2/50\n",
            "163/164 [============================>.] - ETA: 0s - loss: 1.0011 - accuracy: 0.6336\n",
            "Epoch 2: val_loss did not improve from 1.24021\n",
            "164/164 [==============================] - 6s 35ms/step - loss: 1.0008 - accuracy: 0.6338 - val_loss: 1.2472 - val_accuracy: 0.5993\n",
            "Epoch 3/50\n",
            "163/164 [============================>.] - ETA: 0s - loss: 0.8656 - accuracy: 0.6750\n",
            "Epoch 3: val_loss did not improve from 1.24021\n",
            "164/164 [==============================] - 6s 36ms/step - loss: 0.8657 - accuracy: 0.6749 - val_loss: 1.3407 - val_accuracy: 0.5713\n",
            "Epoch 4/50\n",
            "163/164 [============================>.] - ETA: 0s - loss: 0.7548 - accuracy: 0.7189\n",
            "Epoch 4: val_loss did not improve from 1.24021\n",
            "164/164 [==============================] - 6s 40ms/step - loss: 0.7549 - accuracy: 0.7194 - val_loss: 1.3191 - val_accuracy: 0.5701\n",
            "Epoch 5/50\n",
            "163/164 [============================>.] - ETA: 0s - loss: 0.7004 - accuracy: 0.7370\n",
            "Epoch 5: val_loss did not improve from 1.24021\n",
            "164/164 [==============================] - 6s 35ms/step - loss: 0.7003 - accuracy: 0.7371 - val_loss: 1.3205 - val_accuracy: 0.5930\n",
            "Epoch 6/50\n",
            "163/164 [============================>.] - ETA: 0s - loss: 0.6252 - accuracy: 0.7548\n",
            "Epoch 6: val_loss did not improve from 1.24021\n",
            "164/164 [==============================] - 6s 36ms/step - loss: 0.6244 - accuracy: 0.7551 - val_loss: 1.4712 - val_accuracy: 0.5804\n"
          ]
        }
      ]
    },
    {
      "cell_type": "code",
      "source": [
        "plot_fig(results)"
      ],
      "metadata": {
        "colab": {
          "base_uri": "https://localhost:8080/",
          "height": 336
        },
        "id": "Wa8S5EqFOKBW",
        "outputId": "17991cba-1601-4bfa-d0e9-19139aec260f"
      },
      "execution_count": 24,
      "outputs": [
        {
          "output_type": "display_data",
          "data": {
            "text/plain": [
              "<Figure size 1296x360 with 2 Axes>"
            ],
            "image/png": "[encoded data removed]"
          },
          "metadata": {
            "needs_background": "light"
          }
        }
      ]
    },
    {
      "cell_type": "code",
      "source": [
        "model.evaluate(X_test, y_test)\n"
      ],
      "metadata": {
        "colab": {
          "base_uri": "https://localhost:8080/"
        },
        "id": "fmL-IGPvOdT_",
        "outputId": "3c9d0b00-518d-492b-c01f-89e60e83fa6b"
      },
      "execution_count": 25,
      "outputs": [
        {
          "output_type": "stream",
          "name": "stdout",
          "text": [
            "55/55 [==============================] - 1s 13ms/step - loss: 1.4522 - accuracy: 0.5856\n"
          ]
        },
        {
          "output_type": "execute_result",
          "data": {
            "text/plain": [
              "[1.452207326889038, 0.5855752825737]"
            ]
          },
          "metadata": {},
          "execution_count": 25
        }
      ]
    },
    {
      "cell_type": "code",
      "source": [],
      "metadata": {
        "id": "SYS8ov3a2p5f"
      },
      "execution_count": null,
      "outputs": []
    }
  ]
}